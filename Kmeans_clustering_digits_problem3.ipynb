{
 "cells": [
  {
   "cell_type": "code",
   "execution_count": 37,
   "id": "bdf11c29",
   "metadata": {},
   "outputs": [],
   "source": [
    "# Import dependancies\n",
    "import numpy as np\n",
    "import statistics\n",
    "\n",
    "\n",
    "from sklearn import metrics\n",
    "from sklearn.datasets import load_digits\n",
    "from sklearn.cluster import AgglomerativeClustering\n",
    "from sklearn.metrics import confusion_matrix\n",
    "from sklearn.cluster import KMeans"
   ]
  },
  {
   "cell_type": "code",
   "execution_count": 38,
   "id": "b009b778",
   "metadata": {},
   "outputs": [],
   "source": [
    "#import datasets\n",
    "digits = load_digits()"
   ]
  },
  {
   "cell_type": "code",
   "execution_count": 39,
   "id": "29d8e4c5",
   "metadata": {},
   "outputs": [],
   "source": [
    "# flatten the images\n",
    "n_samples = len(digits.images)\n",
    "\n",
    "data = digits.images.reshape((n_samples, -1))"
   ]
  },
  {
   "cell_type": "code",
   "execution_count": 40,
   "id": "4c5f4ae7",
   "metadata": {},
   "outputs": [],
   "source": [
    "#x is feature vector and y is true labels\n",
    "x = data\n",
    "y = digits.target"
   ]
  },
  {
   "cell_type": "code",
   "execution_count": 41,
   "id": "2baf29fb",
   "metadata": {},
   "outputs": [],
   "source": [
    "# 10 number of clusters are given as input to k means clustering\n",
    "\n",
    "kmeans = KMeans(n_clusters = 10, random_state=0)"
   ]
  },
  {
   "cell_type": "code",
   "execution_count": 42,
   "id": "fe6a8928",
   "metadata": {},
   "outputs": [
    {
     "data": {
      "text/plain": [
       "array([5, 7, 7, ..., 7, 3, 3])"
      ]
     },
     "execution_count": 42,
     "metadata": {},
     "output_type": "execute_result"
    }
   ],
   "source": [
    "#Fitting and predicting the clusters\n",
    "kmeans.fit_predict(x)"
   ]
  },
  {
   "cell_type": "code",
   "execution_count": 43,
   "id": "ee9dbc06",
   "metadata": {},
   "outputs": [
    {
     "name": "stdout",
     "output_type": "stream",
     "text": [
      "Most frequent labels of 10 clusters: [4, 3, 5, 9, 7, 0, 1, 8, 2, 6]\n"
     ]
    }
   ],
   "source": [
    "#Check the cluster and see which true label value frequency is highest inside cluster\n",
    "assigned_label = kmeans.labels_\n",
    "true_label = digits.target\n",
    "\n",
    "temp = []\n",
    "mat = []\n",
    "corrected_label = []\n",
    "for i in range(10):\n",
    "    for j in range(n_samples):\n",
    "        if assigned_label[j] == i:\n",
    "            temp.append(true_label[j])\n",
    "            mode = statistics.mode(temp)\n",
    "    corrected_label.append(mode)\n",
    "    mat = temp\n",
    "    temp.clear()\n",
    "\n",
    "print(\"Most frequent labels of 10 clusters:\",corrected_label)"
   ]
  },
  {
   "cell_type": "code",
   "execution_count": 44,
   "id": "a05cc7c2",
   "metadata": {},
   "outputs": [],
   "source": [
    "# Assign most frequent true label value of cluster to all points in the cluster for all clusters\n",
    "\n",
    "new_label = np.zeros(1797)\n",
    "for i in range(10):\n",
    "    for j in range(n_samples):\n",
    "        if assigned_label[j] == i:\n",
    "            new_label[j] = corrected_label[i]\n"
   ]
  },
  {
   "cell_type": "code",
   "execution_count": 45,
   "id": "bc53a9aa",
   "metadata": {},
   "outputs": [
    {
     "name": "stdout",
     "output_type": "stream",
     "text": [
      "Accuracy: 0.702734687012768\n"
     ]
    }
   ],
   "source": [
    "#print(\"Final cluster labels:\", new_label)\n",
    "print(\"Accuracy:\",metrics.fowlkes_mallows_score(true_label, new_label))"
   ]
  },
  {
   "cell_type": "code",
   "execution_count": 46,
   "id": "7ddb3dd9",
   "metadata": {},
   "outputs": [
    {
     "name": "stdout",
     "output_type": "stream",
     "text": [
      "Confusion_matrix:\n",
      " [[177   0   0   0   1   0   0   0   0   0]\n",
      " [  0  55  24   1   0   1   2   0  99   0]\n",
      " [  1   2 148  13   0   0   0   3   8   2]\n",
      " [  0   0   0 154   0   2   0   7   7  13]\n",
      " [  0   7   0   0 163   0   0   7   4   0]\n",
      " [  0   0   0   0   2 136   1   0   0  43]\n",
      " [  1   1   0   0   0   0 177   0   2   0]\n",
      " [  0   0   0   0   0   0   0 177   2   0]\n",
      " [  0   5   3   2   0   4   2   5 100  53]\n",
      " [  0  20   0   6   0   6   0   7   2 139]]\n"
     ]
    }
   ],
   "source": [
    "confusion = confusion_matrix(true_label, new_label)\n",
    "\n",
    "print(\"Confusion_matrix:\\n\",confusion)"
   ]
  }
 ],
 "metadata": {
  "kernelspec": {
   "display_name": "Python 3",
   "language": "python",
   "name": "python3"
  },
  "language_info": {
   "codemirror_mode": {
    "name": "ipython",
    "version": 3
   },
   "file_extension": ".py",
   "mimetype": "text/x-python",
   "name": "python",
   "nbconvert_exporter": "python",
   "pygments_lexer": "ipython3",
   "version": "3.8.8"
  }
 },
 "nbformat": 4,
 "nbformat_minor": 5
}
